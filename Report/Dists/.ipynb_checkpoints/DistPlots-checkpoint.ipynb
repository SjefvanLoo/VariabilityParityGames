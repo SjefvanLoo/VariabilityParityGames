{
 "cells": [
  {
   "cell_type": "code",
   "execution_count": 1,
   "metadata": {
    "scrolled": true
   },
   "outputs": [],
   "source": [
    "import plotly.graph_objects as go\n",
    "import plotly.express as px\n",
    "\n",
    "import pandas as pd\n",
    "\n",
    "def plotdist(filename):\n",
    "    T = pd.read_csv(filename, header=None)\n",
    "    fig = go.Figure(data=[go.Scatter(name=\"Density\", x=T[0].tolist(), y=T[1].tolist())])\n",
    "    fig.show()"
   ]
  },
  {
   "cell_type": "code",
   "execution_count": null,
   "metadata": {},
   "outputs": [],
   "source": [
    "\n",
    "plotdist(\"/home/sjef/AfstudeerRepo/Report/Dists/Lambda_high_low15.csv\")\n",
    "plotdist(\"/home/sjef/AfstudeerRepo/Report/Dists/Lambda_high_low50.csv\")\n",
    "plotdist(\"/home/sjef/AfstudeerRepo/Report/Dists/Lambda_high_low95.csv\")"
   ]
  },
  {
   "cell_type": "code",
   "execution_count": 4,
   "metadata": {},
   "outputs": [
    {
     "ename": "SyntaxError",
     "evalue": "invalid syntax (<ipython-input-4-2ed03c9c4e82>, line 19)",
     "output_type": "error",
     "traceback": [
      "\u001b[0;36m  File \u001b[0;32m\"<ipython-input-4-2ed03c9c4e82>\"\u001b[0;36m, line \u001b[0;32m19\u001b[0m\n\u001b[0;31m    )))\u001b[0m\n\u001b[0m      ^\u001b[0m\n\u001b[0;31mSyntaxError\u001b[0m\u001b[0;31m:\u001b[0m invalid syntax\n"
     ]
    }
   ],
   "source": [
    "import plotly.graph_objects as go\n",
    "import plotly.express as px\n",
    "\n",
    "import pandas as pd\n",
    "\n",
    "def plotlambdameasure(filename):\n",
    "    T = pd.read_csv(filename, header=None)\n",
    "    fig = go.Figure(data=[dict(\n",
    "      x = T[0].tolist(),\n",
    "      autobinx = False,\n",
    "      autobiny = True,\n",
    "      marker = dict(color = 'rgb(68, 68, 68)'),\n",
    "      name = 'date',\n",
    "      type = 'histogram',\n",
    "      xbins = dict(\n",
    "        end = '2016-12-31 12:00',\n",
    "        size = 'M1',\n",
    "        start = '1983-12-31 12:00'\n",
    "      ))\n",
    ")]\n",
    "    fig.show()\n",
    "plotlambdameasure(\"/home/sjef/AfstudeerRepo/implementation/testsuite/minepump/game_phi1PGs_lambda.csv\")\n",
    "plotlambdameasure(\"/home/sjef/AfstudeerRepo/implementation/testsuite/minepump/game_phi2PGs_lambda.csv\")\n",
    "plotlambdameasure(\"/home/sjef/AfstudeerRepo/implementation/testsuite/minepump/game_phi3PGs_lambda.csv\")\n",
    "plotlambdameasure(\"/home/sjef/AfstudeerRepo/implementation/testsuite/minepump/game_phi4PGs_lambda.csv\")\n",
    "plotlambdameasure(\"/home/sjef/AfstudeerRepo/implementation/testsuite/minepump/game_phi5PGs_lambda.csv\")\n",
    "plotlambdameasure(\"/home/sjef/AfstudeerRepo/implementation/testsuite/minepump/game_phi6PGs_lambda.csv\")\n",
    "plotlambdameasure(\"/home/sjef/AfstudeerRepo/implementation/testsuite/minepump/game_phi7PGs_lambda.csv\")\n",
    "plotlambdameasure(\"/home/sjef/AfstudeerRepo/implementation/testsuite/minepump/game_phi8PGs_lambda.csv\")\n",
    "plotlambdameasure(\"/home/sjef/AfstudeerRepo/implementation/testsuite/minepump/game_phi9PGs_lambda.csv\")\n"
   ]
  }
 ],
 "metadata": {
  "kernelspec": {
   "display_name": "Python 2",
   "language": "python",
   "name": "python2"
  },
  "language_info": {
   "codemirror_mode": {
    "name": "ipython",
    "version": 2
   },
   "file_extension": ".py",
   "mimetype": "text/x-python",
   "name": "python",
   "nbconvert_exporter": "python",
   "pygments_lexer": "ipython2",
   "version": "2.7.15"
  }
 },
 "nbformat": 4,
 "nbformat_minor": 2
}
