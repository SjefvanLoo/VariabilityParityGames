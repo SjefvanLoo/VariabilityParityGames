{
 "cells": [
  {
   "cell_type": "code",
   "execution_count": 9,
   "metadata": {},
   "outputs": [
    {
     "data": {
      "text/plain": [
       "<matplotlib.axes._subplots.AxesSubplot at 0x7f31a59a4ad0>"
      ]
     },
     "execution_count": 9,
     "metadata": {},
     "output_type": "execute_result"
    },
    {
     "data": {
      "image/png": "[encoded data removed]",
      "text/plain": [
       "<Figure size 432x288 with 1 Axes>"
      ]
     },
     "metadata": {
      "needs_background": "light"
     },
     "output_type": "display_data"
    }
   ],
   "source": [
    "import pandas as pd\n",
    "import matplotlib.pyplot as plt\n",
    "df  = pd.read_csv(\"/home/sjef/AfstudeerRepo/implementation/testsuite/pess/aggr/difficulty.csv\")\n",
    "df = df.groupby('n').mean().reset_index()\n",
    "df.plot(kind='scatter',x='n',y='t',s=1) # scatter plot"
   ]
  },
  {
   "cell_type": "code",
   "execution_count": null,
   "metadata": {},
   "outputs": [],
   "source": [
    "import pandas as pd\n",
    "import matplotlib.pyplot as plt\n",
    "df  = pd.read_csv(\"/home/sjef/assistagr.csv\")\n",
    "q = df[\"t\"].quantile(0.99)\n",
    "print q\n",
    "df = df[df[\"t\"] < q]\n",
    "df = df[df[\"t\"] > -1 * q]\n",
    "df = df.groupby('n').mean().reset_index()\n",
    "df.plot(kind='scatter',x='n',y='t',s=1) # scatter plot"
   ]
  },
  {
   "cell_type": "code",
   "execution_count": null,
   "metadata": {},
   "outputs": [],
   "source": [
    "import pandas as pd\n",
    "import matplotlib.pyplot as plt\n",
    "df  = pd.read_csv(\"/home/sjef/assistminepump3_time.csv\")\n",
    "df = df.groupby('n').mean().reset_index()\n",
    "df.plot(kind='scatter',x='n',y='t',s=1) # scatter plot\n",
    "for i in range(0,0):\n",
    "    df2 = df[df['f'] == i]\n",
    "    df2.plot(kind='scatter',x='n',y='t',s=1) # scatter plot"
   ]
  },
  {
   "cell_type": "code",
   "execution_count": null,
   "metadata": {},
   "outputs": [],
   "source": [
    "import pandas as pd\n",
    "import matplotlib.pyplot as plt\n",
    "df  = pd.read_csv(\"/home/sjef/assist_random_aggr.csv\")\n",
    "q = df[\"t\"].quantile(0.99)\n",
    "#print q\n",
    "#df = df[df[\"t\"] < q]\n",
    "#df = df[df[\"t\"] > -1 * q]\n",
    "df = df.groupby('n').mean().reset_index()\n",
    "df.plot(kind='scatter',x='n',y='t',s=1) # scatter plot"
   ]
  },
  {
   "cell_type": "code",
   "execution_count": null,
   "metadata": {},
   "outputs": [],
   "source": [
    "import pandas as pd\n",
    "import matplotlib.pyplot as plt\n",
    "df  = pd.read_csv(\"/home/sjef/assistminepump3.csv\")\n",
    "#df = df.groupby('n').mean().reset_index()\n",
    "for i in range(50,70):\n",
    "    df2 = df[df['f'] == i]\n",
    "    df2.plot(kind='scatter',x='n',y='v',s=1) # scatter plot"
   ]
  },
  {
   "cell_type": "code",
   "execution_count": null,
   "metadata": {},
   "outputs": [],
   "source": []
  }
 ],
 "metadata": {
  "kernelspec": {
   "display_name": "Python 2",
   "language": "python",
   "name": "python2"
  },
  "language_info": {
   "codemirror_mode": {
    "name": "ipython",
    "version": 2
   },
   "file_extension": ".py",
   "mimetype": "text/x-python",
   "name": "python",
   "nbconvert_exporter": "python",
   "pygments_lexer": "ipython2",
   "version": "2.7.15"
  }
 },
 "nbformat": 4,
 "nbformat_minor": 2
}
